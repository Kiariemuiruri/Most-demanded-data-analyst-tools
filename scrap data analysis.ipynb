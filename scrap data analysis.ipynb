{
 "cells": [
  {
   "cell_type": "code",
   "execution_count": 1,
   "metadata": {},
   "outputs": [],
   "source": [
    "from pathlib import Path\n",
    "import re\n",
    "import pandas as pd\n",
    "import matplotlib.pyplot as plt\n",
    "import seaborn as sns\n",
    "import warnings\n",
    "import numpy as np\n",
    "\n",
    "warnings.simplefilter('ignore')\n",
    "%matplotlib inline"
   ]
  },
  {
   "cell_type": "code",
   "execution_count": 31,
   "metadata": {},
   "outputs": [
    {
     "data": {
      "text/html": [
       "<div>\n",
       "<style scoped>\n",
       "    .dataframe tbody tr th:only-of-type {\n",
       "        vertical-align: middle;\n",
       "    }\n",
       "\n",
       "    .dataframe tbody tr th {\n",
       "        vertical-align: top;\n",
       "    }\n",
       "\n",
       "    .dataframe thead th {\n",
       "        text-align: right;\n",
       "    }\n",
       "</style>\n",
       "<table border=\"1\" class=\"dataframe\">\n",
       "  <thead>\n",
       "    <tr style=\"text-align: right;\">\n",
       "      <th></th>\n",
       "      <th>Skill</th>\n",
       "    </tr>\n",
       "  </thead>\n",
       "  <tbody>\n",
       "    <tr>\n",
       "      <th>0</th>\n",
       "      <td>dataanalysis</td>\n",
       "    </tr>\n",
       "    <tr>\n",
       "      <th>1</th>\n",
       "      <td>consulting</td>\n",
       "    </tr>\n",
       "    <tr>\n",
       "      <th>2</th>\n",
       "      <td>dataanalyst</td>\n",
       "    </tr>\n",
       "    <tr>\n",
       "      <th>3</th>\n",
       "      <td>database</td>\n",
       "    </tr>\n",
       "    <tr>\n",
       "      <th>4</th>\n",
       "      <td>infrastructure</td>\n",
       "    </tr>\n",
       "    <tr>\n",
       "      <th>...</th>\n",
       "      <td>...</td>\n",
       "    </tr>\n",
       "    <tr>\n",
       "      <th>281</th>\n",
       "      <td>cloudcomputing</td>\n",
       "    </tr>\n",
       "    <tr>\n",
       "      <th>282</th>\n",
       "      <td>python</td>\n",
       "    </tr>\n",
       "    <tr>\n",
       "      <th>283</th>\n",
       "      <td>nosql</td>\n",
       "    </tr>\n",
       "    <tr>\n",
       "      <th>284</th>\n",
       "      <td>consultant</td>\n",
       "    </tr>\n",
       "    <tr>\n",
       "      <th>285</th>\n",
       "      <td></td>\n",
       "    </tr>\n",
       "  </tbody>\n",
       "</table>\n",
       "<p>286 rows × 1 columns</p>\n",
       "</div>"
      ],
      "text/plain": [
       "              Skill\n",
       "0      dataanalysis\n",
       "1        consulting\n",
       "2       dataanalyst\n",
       "3          database\n",
       "4    infrastructure\n",
       "..              ...\n",
       "281  cloudcomputing\n",
       "282          python\n",
       "283           nosql\n",
       "284      consultant\n",
       "285                \n",
       "\n",
       "[286 rows x 1 columns]"
      ]
     },
     "execution_count": 31,
     "metadata": {},
     "output_type": "execute_result"
    }
   ],
   "source": [
    "# Reading the scrap results using with open() function\n",
    "file = Path.cwd() / 'ScrapResults.txt'\n",
    "with open(file, 'r') as text:\n",
    "    textfile = text.read()\n",
    "    \n",
    "# Creating a dataframe for the loaded scrap data\n",
    "\n",
    "mylist = list(textfile.split(','))          # First map the results to a list\n",
    "mydf = pd.DataFrame(mylist, columns=['Skill'])\n",
    "\n",
    "mydf\n"
   ]
  },
  {
   "cell_type": "code",
   "execution_count": 3,
   "metadata": {},
   "outputs": [],
   "source": [
    "# A search list of the top 10 data analysts tools in 2023\n",
    "\n",
    "search = ['sql', 'tableau', 'excel', 'knime',  'spark', 'python', 'qlik', 'sas', 'looker', 'miner']"
   ]
  },
  {
   "cell_type": "code",
   "execution_count": 4,
   "metadata": {},
   "outputs": [],
   "source": [
    "# Define a function to combine the same tools of the above search list from the dataframe\n",
    "\n",
    "def combine_same(same):  \n",
    "    results = same\n",
    "    options = []\n",
    "    for option in same:\n",
    "        if search[0] in option.lower():                 \n",
    "            option = option.replace(option, search[0])  #Repalce skill name from the dataframe to what is in the search list\n",
    "            options.append(option)\n",
    "            results[option] = False\n",
    "        elif search[1] in option.lower():\n",
    "            option = option.replace(option, search[1])\n",
    "            options.append(option)\n",
    "            results[option] = False\n",
    "        elif search[2] in option.lower():\n",
    "            option = option.replace(option, search[2])\n",
    "            options.append(option)\n",
    "            results[option] = False\n",
    "        elif search[3] in option.lower():\n",
    "            option = option.replace(option, search[3])\n",
    "            options.append(option)\n",
    "            results[option] = False\n",
    "        elif search[4] in option.lower():\n",
    "            option = option.replace(option, search[4])\n",
    "            options.append(option)\n",
    "            results[option] = False\n",
    "        elif search[5] in option.lower():\n",
    "            option = option.replace(option, search[5])\n",
    "            options.append(option)\n",
    "            results[option] = False\n",
    "        elif search[6] in option.lower():\n",
    "            option = option.replace(option, search[6])\n",
    "            options.append(option)\n",
    "            results[option] = False\n",
    "        elif search[7] in option.lower():\n",
    "            option = option.replace(option, search[7])\n",
    "            options.append(option)\n",
    "            results[option] = False\n",
    "        elif search[8] in option.lower():\n",
    "            option = option.replace(option, search[8])\n",
    "            options.append(option)\n",
    "            results[option] = False\n",
    "        elif search[9] in option.lower():\n",
    "            option = option.replace(option, search[9])\n",
    "            options.append(option)\n",
    "            results[option] = False\n",
    "        results.at[option] = True\n",
    "    return results[options]"
   ]
  },
  {
   "cell_type": "code",
   "execution_count": 25,
   "metadata": {},
   "outputs": [
    {
     "data": {
      "text/plain": [
       "sql          16\n",
       "tableau      10\n",
       "python        3\n",
       "sas        True\n",
       "excel      True\n",
       "Name: Skill, dtype: object"
      ]
     },
     "execution_count": 25,
     "metadata": {},
     "output_type": "execute_result"
    }
   ],
   "source": [
    "# Initial results of when this program was first ran\n",
    "initial = combine_same(mydf.Skill)\n",
    "initial = comsum.groupby(comsum.index).sum()\n",
    "initial_sort = comsum.sort_values(ascending=False)\n",
    "initial_sort"
   ]
  },
  {
   "cell_type": "code",
   "execution_count": 32,
   "metadata": {},
   "outputs": [
    {
     "data": {
      "text/plain": [
       "sql        33\n",
       "tableau    21\n",
       "python      7\n",
       "sas         4\n",
       "excel       2\n",
       "Name: Skill, dtype: int64"
      ]
     },
     "execution_count": 32,
     "metadata": {},
     "output_type": "execute_result"
    }
   ],
   "source": [
    "# Weekly results of the program\n",
    "demand = combine_same(mydf.Skill)\n",
    "demand = demand.groupby(demand.index).sum()\n",
    "demand_sort = demand.sort_values(ascending=False)\n",
    "demand_sort"
   ]
  },
  {
   "cell_type": "code",
   "execution_count": 28,
   "metadata": {},
   "outputs": [],
   "source": [
    "# Assigning a 0 to results that execute to False in the above defined funtion\n",
    "for value in  initial:\n",
    "    if value == False:\n",
    "        value = 0\n",
    "    else:\n",
    "        value\n",
    "\n",
    "\n",
    "for value in demand:\n",
    "    if value == False:\n",
    "        value = 0\n",
    "    else:\n",
    "        value\n"
   ]
  },
  {
   "cell_type": "code",
   "execution_count": 33,
   "metadata": {},
   "outputs": [
    {
     "data": {
      "image/png": "[encoded data removed]",
      "text/plain": [
       "<Figure size 864x432 with 1 Axes>"
      ]
     },
     "metadata": {
      "needs_background": "light"
     },
     "output_type": "display_data"
    }
   ],
   "source": [
    "# A bar plot of all tools in demand weekly vs the number of times a tool is mentioned in  job posts\n",
    "plt.figure(figsize=(12, 6))\n",
    "sns.barplot(y=demand_sort, x=demand_sort.index)\n",
    "plt.ylabel('No. of times a tool is mentioned', weight='bold')\n",
    "plt.xlabel('Tool', weight='bold');"
   ]
  },
  {
   "cell_type": "code",
   "execution_count": 35,
   "metadata": {},
   "outputs": [
    {
     "data": {
      "text/plain": [
       "sql        54.8387\n",
       "tableau    35.4839\n",
       "python     12.9032\n",
       "sas        9.67742\n",
       "excel      3.22581\n",
       "Name: Skill, dtype: object"
      ]
     },
     "execution_count": 35,
     "metadata": {},
     "output_type": "execute_result"
    }
   ],
   "source": [
    "# Percentage growth of skills in demand \n",
    "growth = ((demand - initial)/initial.sum())*100\n",
    "growth.sort_values(ascending=False)"
   ]
  }
 ],
 "metadata": {
  "kernelspec": {
   "display_name": "Python 3",
   "language": "python",
   "name": "python3"
  },
  "language_info": {
   "codemirror_mode": {
    "name": "ipython",
    "version": 3
   },
   "file_extension": ".py",
   "mimetype": "text/x-python",
   "name": "python",
   "nbconvert_exporter": "python",
   "pygments_lexer": "ipython3",
   "version": "3.8.5"
  }
 },
 "nbformat": 4,
 "nbformat_minor": 4
}
